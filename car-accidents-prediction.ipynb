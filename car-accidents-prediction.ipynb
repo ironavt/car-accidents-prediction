{
 "cells": [
  {
   "cell_type": "markdown",
   "metadata": {},
   "source": [
    "# Импорт библиотек"
   ]
  },
  {
   "cell_type": "code",
   "execution_count": 46,
   "metadata": {},
   "outputs": [],
   "source": [
    "import pandas as pd\n",
    "import numpy as np\n",
    "import matplotlib.pyplot as plt\n",
    "import seaborn as sns\n",
    "\n",
    "from sqlalchemy import create_engine, inspect\n",
    "from ydata_profiling import ProfileReport"
   ]
  },
  {
   "cell_type": "code",
   "execution_count": 47,
   "metadata": {},
   "outputs": [],
   "source": [
    "# pd.options.plotting.backend = \"matplotlib\""
   ]
  },
  {
   "cell_type": "code",
   "execution_count": 48,
   "metadata": {},
   "outputs": [],
   "source": [
    "import yaml\n",
    "from os import path, makedirs"
   ]
  },
  {
   "cell_type": "markdown",
   "metadata": {},
   "source": [
    "# Подключение к базе данных"
   ]
  },
  {
   "cell_type": "code",
   "execution_count": 49,
   "metadata": {},
   "outputs": [],
   "source": [
    "# чтобы выложить проект на гитхабе и не палить параметры подключения,\n",
    "# загрузим их из yml файла (файл добавлен в .gitignore)\n",
    "with open('db_config.yml', 'r') as file:\n",
    "    db_config = yaml.safe_load(file)\n",
    "\n",
    "# строка для подключения к базе\n",
    "connection_string = 'postgresql://{}:{}@{}:{}/{}'.format(\n",
    "    db_config['user'],\n",
    "    db_config['pwd'],\n",
    "    db_config['host'],\n",
    "    db_config['port'],\n",
    "    db_config['db'],\n",
    ")"
   ]
  },
  {
   "cell_type": "code",
   "execution_count": 50,
   "metadata": {},
   "outputs": [],
   "source": [
    "engine = create_engine(connection_string) "
   ]
  },
  {
   "cell_type": "code",
   "execution_count": 51,
   "metadata": {},
   "outputs": [
    {
     "name": "stdout",
     "output_type": "stream",
     "text": [
      "Table: collisions\n",
      "Column: case_id - Type: TEXT\n",
      "Column: county_city_location - Type: TEXT\n",
      "Column: county_location - Type: TEXT\n",
      "Column: distance - Type: REAL\n",
      "Column: direction - Type: TEXT\n",
      "Column: intersection - Type: INTEGER\n",
      "Column: weather_1 - Type: TEXT\n",
      "Column: location_type - Type: TEXT\n",
      "Column: collision_damage - Type: TEXT\n",
      "Column: party_count - Type: INTEGER\n",
      "Column: primary_collision_factor - Type: TEXT\n",
      "Column: pcf_violation_category - Type: TEXT\n",
      "Column: type_of_collision - Type: TEXT\n",
      "Column: motor_vehicle_involved_with - Type: TEXT\n",
      "Column: road_surface - Type: TEXT\n",
      "Column: road_condition_1 - Type: TEXT\n",
      "Column: lighting - Type: TEXT\n",
      "Column: control_device - Type: TEXT\n",
      "Column: collision_date - Type: DATE\n",
      "Column: collision_time - Type: TIME\n",
      "------------------------\n",
      "Table: case_ids\n",
      "Column: case_id - Type: TEXT\n",
      "Column: db_year - Type: TEXT\n",
      "------------------------\n",
      "Table: parties\n",
      "Column: id - Type: INTEGER\n",
      "Column: case_id - Type: TEXT\n",
      "Column: party_number - Type: INTEGER\n",
      "Column: party_type - Type: TEXT\n",
      "Column: at_fault - Type: INTEGER\n",
      "Column: insurance_premium - Type: INTEGER\n",
      "Column: party_sobriety - Type: TEXT\n",
      "Column: party_drug_physical - Type: TEXT\n",
      "Column: cellphone_in_use - Type: INTEGER\n",
      "------------------------\n",
      "Table: vehicles\n",
      "Column: id - Type: INTEGER\n",
      "Column: case_id - Type: TEXT\n",
      "Column: party_number - Type: INTEGER\n",
      "Column: vehicle_type - Type: TEXT\n",
      "Column: vehicle_transmission - Type: TEXT\n",
      "Column: vehicle_age - Type: INTEGER\n",
      "------------------------\n"
     ]
    }
   ],
   "source": [
    "inspector = inspect(engine)\n",
    "table_names = inspector.get_table_names()\n",
    "\n",
    "for table_name in table_names:\n",
    "    columns = inspector.get_columns(table_name)\n",
    "    print(f\"Table: {table_name}\")\n",
    "    for column in columns:\n",
    "        print(f\"Column: {column['name']} - Type: {column['type']}\")\n",
    "    print(\"------------------------\")"
   ]
  },
  {
   "cell_type": "code",
   "execution_count": 52,
   "metadata": {},
   "outputs": [],
   "source": [
    "def download_tables(engine, table_names, datasets_folder='./datasets'):\n",
    "    print(\"Start downloading tables:\", table_names)\n",
    "    if not path.exists(datasets_folder):\n",
    "                makedirs(datasets_folder)\n",
    "\n",
    "    for table_name in table_names:\n",
    "        dataset_path = datasets_folder + '/' + engine.url.database + '_' + table_name + '.csv'\n",
    "        \n",
    "        if not path.exists(dataset_path):\n",
    "            print(\"Downloading table:\", dataset_path)\n",
    "            query = '''SELECT * FROM {}'''.format(table_name)\n",
    "            df = pd.read_sql_query(query, con=engine)\n",
    "            df.to_csv(dataset_path)\n",
    "            print(\"Download complete:\", table_name)\n",
    "            del df\n",
    "        else:\n",
    "            print(f\"Table {table_name} is already downloaded:\", dataset_path)\n",
    "    \n",
    "    print(\"Download comlete!\")\n"
   ]
  },
  {
   "cell_type": "code",
   "execution_count": 53,
   "metadata": {},
   "outputs": [
    {
     "name": "stdout",
     "output_type": "stream",
     "text": [
      "Start downloading tables: ['collisions', 'case_ids', 'parties', 'vehicles']\n",
      "Table collisions is already downloaded: ./datasets/data-science-vehicle-db_collisions.csv\n",
      "Table case_ids is already downloaded: ./datasets/data-science-vehicle-db_case_ids.csv\n",
      "Table parties is already downloaded: ./datasets/data-science-vehicle-db_parties.csv\n",
      "Table vehicles is already downloaded: ./datasets/data-science-vehicle-db_vehicles.csv\n",
      "Download comlete!\n"
     ]
    }
   ],
   "source": [
    "download_tables(engine, table_names)"
   ]
  },
  {
   "cell_type": "code",
   "execution_count": 54,
   "metadata": {},
   "outputs": [],
   "source": [
    "# процедура создания отчётов\n",
    "def make_reports(engine, table_names, datasets_folder='./datasets', reports_folder='./reports'):\n",
    "    print(\"Start reporting for tables:\", table_names)\n",
    "    if not path.exists(reports_folder):\n",
    "            makedirs(reports_folder)\n",
    "    \n",
    "    for table_name in table_names:\n",
    "        report_path = reports_folder + '/' + engine.url.database + '_' + table_name + '.html'\n",
    "        dataset_path = datasets_folder + '/' + engine.url.database + '_' + table_name + '.csv'\n",
    "                \n",
    "        if not path.exists(report_path):\n",
    "            print('Forming report:', report_path)\n",
    "            if not path.exists(dataset_path):\n",
    "                query = '''SELECT * FROM {}'''.format(table_name)\n",
    "                df = pd.read_sql_query(query, con=engine)\n",
    "            else:\n",
    "                 df = pd.read_csv(dataset_path, index_col=0)\n",
    "            report = ProfileReport(df)\n",
    "            report.to_file(report_path)\n",
    "        else:\n",
    "            print(f\"Report for {table_name} already exists: {report_path}\")\n",
    "        \n",
    "    print('Reporting completed!')\n",
    "             "
   ]
  },
  {
   "cell_type": "code",
   "execution_count": 55,
   "metadata": {},
   "outputs": [
    {
     "name": "stdout",
     "output_type": "stream",
     "text": [
      "Start reporting for tables: ['collisions', 'case_ids', 'parties', 'vehicles']\n",
      "Forming report: ./reports/data-science-vehicle-db_collisions.html\n"
     ]
    },
    {
     "data": {
      "application/vnd.jupyter.widget-view+json": {
       "model_id": "4a269bc9fde9492cacd90fdeb2e78dbd",
       "version_major": 2,
       "version_minor": 0
      },
      "text/plain": [
       "Summarize dataset:   0%|          | 0/5 [00:00<?, ?it/s]"
      ]
     },
     "metadata": {},
     "output_type": "display_data"
    },
    {
     "data": {
      "application/vnd.jupyter.widget-view+json": {
       "model_id": "0667942b926949ab81dbb0116d0bbd8a",
       "version_major": 2,
       "version_minor": 0
      },
      "text/plain": [
       "Generate report structure:   0%|          | 0/1 [00:00<?, ?it/s]"
      ]
     },
     "metadata": {},
     "output_type": "display_data"
    },
    {
     "data": {
      "application/vnd.jupyter.widget-view+json": {
       "model_id": "b4781d05f1ea4239a2de14b817f344bc",
       "version_major": 2,
       "version_minor": 0
      },
      "text/plain": [
       "Render HTML:   0%|          | 0/1 [00:00<?, ?it/s]"
      ]
     },
     "metadata": {},
     "output_type": "display_data"
    },
    {
     "data": {
      "application/vnd.jupyter.widget-view+json": {
       "model_id": "b724d39ee5214898b36e3e159a328040",
       "version_major": 2,
       "version_minor": 0
      },
      "text/plain": [
       "Export report to file:   0%|          | 0/1 [00:00<?, ?it/s]"
      ]
     },
     "metadata": {},
     "output_type": "display_data"
    },
    {
     "name": "stdout",
     "output_type": "stream",
     "text": [
      "Forming report: ./reports/data-science-vehicle-db_case_ids.html\n"
     ]
    },
    {
     "data": {
      "application/vnd.jupyter.widget-view+json": {
       "model_id": "380b520130c0421aa9d89cd7b9fe8005",
       "version_major": 2,
       "version_minor": 0
      },
      "text/plain": [
       "Summarize dataset:   0%|          | 0/5 [00:00<?, ?it/s]"
      ]
     },
     "metadata": {},
     "output_type": "display_data"
    },
    {
     "data": {
      "application/vnd.jupyter.widget-view+json": {
       "model_id": "26ff936096a942a3b2bce6588fb03dd6",
       "version_major": 2,
       "version_minor": 0
      },
      "text/plain": [
       "Generate report structure:   0%|          | 0/1 [00:00<?, ?it/s]"
      ]
     },
     "metadata": {},
     "output_type": "display_data"
    },
    {
     "data": {
      "application/vnd.jupyter.widget-view+json": {
       "model_id": "e11b091674664dd1bb2a24dbf0515ccc",
       "version_major": 2,
       "version_minor": 0
      },
      "text/plain": [
       "Render HTML:   0%|          | 0/1 [00:00<?, ?it/s]"
      ]
     },
     "metadata": {},
     "output_type": "display_data"
    },
    {
     "data": {
      "application/vnd.jupyter.widget-view+json": {
       "model_id": "6a602cad9d304f498d07aad2b23ad755",
       "version_major": 2,
       "version_minor": 0
      },
      "text/plain": [
       "Export report to file:   0%|          | 0/1 [00:00<?, ?it/s]"
      ]
     },
     "metadata": {},
     "output_type": "display_data"
    },
    {
     "name": "stdout",
     "output_type": "stream",
     "text": [
      "Forming report: ./reports/data-science-vehicle-db_parties.html\n"
     ]
    },
    {
     "data": {
      "application/vnd.jupyter.widget-view+json": {
       "model_id": "9de93efefafc48e4bce6874172d5a9de",
       "version_major": 2,
       "version_minor": 0
      },
      "text/plain": [
       "Summarize dataset:   0%|          | 0/5 [00:00<?, ?it/s]"
      ]
     },
     "metadata": {},
     "output_type": "display_data"
    },
    {
     "data": {
      "application/vnd.jupyter.widget-view+json": {
       "model_id": "2a18f030602d4b2685ff70aa19b24fbc",
       "version_major": 2,
       "version_minor": 0
      },
      "text/plain": [
       "Generate report structure:   0%|          | 0/1 [00:00<?, ?it/s]"
      ]
     },
     "metadata": {},
     "output_type": "display_data"
    },
    {
     "data": {
      "application/vnd.jupyter.widget-view+json": {
       "model_id": "2e79960a28544585a2e0e2981b40de4e",
       "version_major": 2,
       "version_minor": 0
      },
      "text/plain": [
       "Render HTML:   0%|          | 0/1 [00:00<?, ?it/s]"
      ]
     },
     "metadata": {},
     "output_type": "display_data"
    },
    {
     "data": {
      "application/vnd.jupyter.widget-view+json": {
       "model_id": "dd5cadd2c6984ce688c02f0f22d5a135",
       "version_major": 2,
       "version_minor": 0
      },
      "text/plain": [
       "Export report to file:   0%|          | 0/1 [00:00<?, ?it/s]"
      ]
     },
     "metadata": {},
     "output_type": "display_data"
    },
    {
     "name": "stdout",
     "output_type": "stream",
     "text": [
      "Forming report: ./reports/data-science-vehicle-db_vehicles.html\n"
     ]
    },
    {
     "data": {
      "application/vnd.jupyter.widget-view+json": {
       "model_id": "97876f5121684de3b12970911bac6758",
       "version_major": 2,
       "version_minor": 0
      },
      "text/plain": [
       "Summarize dataset:   0%|          | 0/5 [00:00<?, ?it/s]"
      ]
     },
     "metadata": {},
     "output_type": "display_data"
    },
    {
     "data": {
      "application/vnd.jupyter.widget-view+json": {
       "model_id": "034966c932f6462abd8308acb57aaec6",
       "version_major": 2,
       "version_minor": 0
      },
      "text/plain": [
       "Generate report structure:   0%|          | 0/1 [00:00<?, ?it/s]"
      ]
     },
     "metadata": {},
     "output_type": "display_data"
    },
    {
     "data": {
      "application/vnd.jupyter.widget-view+json": {
       "model_id": "3caad308f4ab425f9e2d1f996b362548",
       "version_major": 2,
       "version_minor": 0
      },
      "text/plain": [
       "Render HTML:   0%|          | 0/1 [00:00<?, ?it/s]"
      ]
     },
     "metadata": {},
     "output_type": "display_data"
    },
    {
     "data": {
      "application/vnd.jupyter.widget-view+json": {
       "model_id": "6e467eb877d94b4780ddcb156ffb5cf8",
       "version_major": 2,
       "version_minor": 0
      },
      "text/plain": [
       "Export report to file:   0%|          | 0/1 [00:00<?, ?it/s]"
      ]
     },
     "metadata": {},
     "output_type": "display_data"
    },
    {
     "name": "stdout",
     "output_type": "stream",
     "text": [
      "Reporting completed!\n"
     ]
    }
   ],
   "source": [
    "make_reports(engine, table_names)"
   ]
  }
 ],
 "metadata": {
  "kernelspec": {
   "display_name": "nn",
   "language": "python",
   "name": "python3"
  },
  "language_info": {
   "codemirror_mode": {
    "name": "ipython",
    "version": 3
   },
   "file_extension": ".py",
   "mimetype": "text/x-python",
   "name": "python",
   "nbconvert_exporter": "python",
   "pygments_lexer": "ipython3",
   "version": "3.9.18"
  }
 },
 "nbformat": 4,
 "nbformat_minor": 2
}
