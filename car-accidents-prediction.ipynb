{
 "cells": [
  {
   "cell_type": "markdown",
   "metadata": {},
   "source": [
    "# Импорт библиотек"
   ]
  },
  {
   "cell_type": "code",
   "execution_count": 30,
   "metadata": {},
   "outputs": [],
   "source": [
    "import pandas as pd\n",
    "import numpy as np\n",
    "import matplotlib.pyplot as plt\n",
    "import seaborn as sns\n",
    "\n",
    "from sqlalchemy import create_engine, inspect\n",
    "from ydata_profiling import ProfileReport"
   ]
  },
  {
   "cell_type": "code",
   "execution_count": 31,
   "metadata": {},
   "outputs": [],
   "source": [
    "# pd.options.plotting.backend = \"matplotlib\""
   ]
  },
  {
   "cell_type": "code",
   "execution_count": 42,
   "metadata": {},
   "outputs": [],
   "source": [
    "import yaml\n",
    "from os import path, makedirs"
   ]
  },
  {
   "cell_type": "markdown",
   "metadata": {},
   "source": [
    "# Подключение к базе данных"
   ]
  },
  {
   "cell_type": "code",
   "execution_count": 33,
   "metadata": {},
   "outputs": [],
   "source": [
    "# чтобы выложить проект на гитхабе и не палить параметры подключения,\n",
    "# загрузим их из yml файла (файл добавлен в .gitignore)\n",
    "with open('db_config.yml', 'r') as file:\n",
    "    db_config = yaml.safe_load(file)\n",
    "\n",
    "# строка для подключения к базе\n",
    "connection_string = 'postgresql://{}:{}@{}:{}/{}'.format(\n",
    "    db_config['user'],\n",
    "    db_config['pwd'],\n",
    "    db_config['host'],\n",
    "    db_config['port'],\n",
    "    db_config['db'],\n",
    ")"
   ]
  },
  {
   "cell_type": "code",
   "execution_count": 34,
   "metadata": {},
   "outputs": [],
   "source": [
    "engine = create_engine(connection_string) "
   ]
  },
  {
   "cell_type": "code",
   "execution_count": 35,
   "metadata": {},
   "outputs": [
    {
     "name": "stdout",
     "output_type": "stream",
     "text": [
      "Table: collisions\n",
      "Column: case_id - Type: TEXT\n",
      "Column: county_city_location - Type: TEXT\n",
      "Column: county_location - Type: TEXT\n",
      "Column: distance - Type: REAL\n",
      "Column: direction - Type: TEXT\n",
      "Column: intersection - Type: INTEGER\n",
      "Column: weather_1 - Type: TEXT\n",
      "Column: location_type - Type: TEXT\n",
      "Column: collision_damage - Type: TEXT\n",
      "Column: party_count - Type: INTEGER\n",
      "Column: primary_collision_factor - Type: TEXT\n",
      "Column: pcf_violation_category - Type: TEXT\n",
      "Column: type_of_collision - Type: TEXT\n",
      "Column: motor_vehicle_involved_with - Type: TEXT\n",
      "Column: road_surface - Type: TEXT\n",
      "Column: road_condition_1 - Type: TEXT\n",
      "Column: lighting - Type: TEXT\n",
      "Column: control_device - Type: TEXT\n",
      "Column: collision_date - Type: DATE\n",
      "Column: collision_time - Type: TIME\n",
      "------------------------\n",
      "Table: case_ids\n",
      "Column: case_id - Type: TEXT\n",
      "Column: db_year - Type: TEXT\n",
      "------------------------\n",
      "Table: parties\n",
      "Column: id - Type: INTEGER\n",
      "Column: case_id - Type: TEXT\n",
      "Column: party_number - Type: INTEGER\n",
      "Column: party_type - Type: TEXT\n",
      "Column: at_fault - Type: INTEGER\n",
      "Column: insurance_premium - Type: INTEGER\n",
      "Column: party_sobriety - Type: TEXT\n",
      "Column: party_drug_physical - Type: TEXT\n",
      "Column: cellphone_in_use - Type: INTEGER\n",
      "------------------------\n",
      "Table: vehicles\n",
      "Column: id - Type: INTEGER\n",
      "Column: case_id - Type: TEXT\n",
      "Column: party_number - Type: INTEGER\n",
      "Column: vehicle_type - Type: TEXT\n",
      "Column: vehicle_transmission - Type: TEXT\n",
      "Column: vehicle_age - Type: INTEGER\n",
      "------------------------\n"
     ]
    }
   ],
   "source": [
    "inspector = inspect(engine)\n",
    "table_names = inspector.get_table_names()\n",
    "\n",
    "for table_name in table_names:\n",
    "    columns = inspector.get_columns(table_name)\n",
    "    print(f\"Table: {table_name}\")\n",
    "    for column in columns:\n",
    "        print(f\"Column: {column['name']} - Type: {column['type']}\")\n",
    "    print(\"------------------------\")"
   ]
  },
  {
   "cell_type": "code",
   "execution_count": 43,
   "metadata": {},
   "outputs": [],
   "source": [
    "def download_tables(engine, table_names, datasets_folder='./datasets'):\n",
    "    for table_name in table_names:\n",
    "\n",
    "        if not path.exists(datasets_folder):\n",
    "            makedirs(datasets_folder)\n",
    "            \n",
    "        dataset_path = datasets_folder + '/' + engine.url.database + '_' + table_name + '.csv'\n",
    "        print(\"Start downloading tables:\", table_names)\n",
    "\n",
    "        if not path.exists(dataset_path):\n",
    "            print(\"Downloading table:\", dataset_path)\n",
    "            query = '''SELECT * FROM {}'''.format(table_name)\n",
    "            df = pd.read_sql_query(query, con=engine)\n",
    "            df.to_csv(dataset_path)\n",
    "            print(\"Download complete:\", table_name)\n",
    "            del df\n",
    "        else:\n",
    "            print(f\"Table {table_name} is already downloaded:\", dataset_path)\n",
    "    \n",
    "    print(\"Download comlete!\")\n"
   ]
  },
  {
   "cell_type": "code",
   "execution_count": 44,
   "metadata": {},
   "outputs": [
    {
     "name": "stdout",
     "output_type": "stream",
     "text": [
      "Start downloading tables: ['collisions', 'case_ids', 'parties', 'vehicles']\n",
      "Downloading table: ./datasets/data-science-vehicle-db_collisions.csv\n",
      "Download complete: collisions\n",
      "Start downloading tables: ['collisions', 'case_ids', 'parties', 'vehicles']\n",
      "Downloading table: ./datasets/data-science-vehicle-db_case_ids.csv\n",
      "Download complete: case_ids\n",
      "Start downloading tables: ['collisions', 'case_ids', 'parties', 'vehicles']\n",
      "Downloading table: ./datasets/data-science-vehicle-db_parties.csv\n",
      "Download complete: parties\n",
      "Start downloading tables: ['collisions', 'case_ids', 'parties', 'vehicles']\n",
      "Downloading table: ./datasets/data-science-vehicle-db_vehicles.csv\n",
      "Download complete: vehicles\n",
      "Download comlete!\n"
     ]
    }
   ],
   "source": [
    "download_tables(engine, table_names)"
   ]
  },
  {
   "cell_type": "code",
   "execution_count": null,
   "metadata": {},
   "outputs": [],
   "source": []
  },
  {
   "cell_type": "code",
   "execution_count": 38,
   "metadata": {},
   "outputs": [],
   "source": [
    "# процедура создание отчётов\n",
    "def make_reports(engine, table_names, reports_folder='./reports'):\n",
    "    \n",
    "    for table_name in table_names:\n",
    "        report_path = reports_folder + '/' + engine.url.database + '_' + table_name + '.html'\n",
    "        print(\"Start reporting for tables:\", table_names)\n",
    "        \n",
    "        if not path.exists(report_path):\n",
    "            print('Forming report:', report_path)\n",
    "            query = '''SELECT * FROM {}'''.format(table_name)\n",
    "            df = pd.read_sql_query(query, con=engine)\n",
    "            report = ProfileReport(df, minimal=True, missing_diagrams={'bar':False})\n",
    "            report.to_file(report_path)\n",
    "        else:\n",
    "            print(f\"Report for {table_name} already exists: {report_path}\")\n",
    "        \n",
    "    print('Reporting completed!')\n",
    "             "
   ]
  }
 ],
 "metadata": {
  "kernelspec": {
   "display_name": "nn",
   "language": "python",
   "name": "python3"
  },
  "language_info": {
   "codemirror_mode": {
    "name": "ipython",
    "version": 3
   },
   "file_extension": ".py",
   "mimetype": "text/x-python",
   "name": "python",
   "nbconvert_exporter": "python",
   "pygments_lexer": "ipython3",
   "version": "3.10.12"
  }
 },
 "nbformat": 4,
 "nbformat_minor": 2
}
